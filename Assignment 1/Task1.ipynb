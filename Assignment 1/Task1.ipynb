{
 "cells": [
  {
   "cell_type": "markdown",
   "metadata": {},
   "source": [
    "# Imports & Constant Variables"
   ]
  },
  {
   "cell_type": "code",
   "execution_count": 1,
   "metadata": {},
   "outputs": [],
   "source": [
    "import random\n",
    "import time\n",
    "\n",
    "input_sizes = [10, 100, 1000, 10000]"
   ]
  },
  {
   "cell_type": "markdown",
   "metadata": {},
   "source": [
    "# Insertion Sort"
   ]
  },
  {
   "cell_type": "code",
   "execution_count": null,
   "metadata": {},
   "outputs": [],
   "source": [
    "def insertion_sort(arr):\n",
    "    steps = 0\n",
    "    for i in range(1, len(arr)):\n",
    "        key = arr[i]\n",
    "        j = i - 1\n",
    "        while j >= 0 and arr[j] > key:\n",
    "            arr[j + 1] = arr[j]\n",
    "            j -= 1\n",
    "            steps += 1\n",
    "        arr[j + 1] = key\n",
    "        steps += 1\n",
    "    return steps\n",
    "\n",
    "for size in input_sizes:\n",
    "    arr = random.sample(range(size), size)  # Generate a random array of given size\n",
    "    start_time = time.time()\n",
    "\n",
    "    steps = insertion_sort(arr)\n",
    "    end_time = time.time()\n",
    "    execution_time = end_time - start_time\n",
    "\n",
    "    print(f\"Input size: {size}, Steps: {steps}, Execution time: {execution_time} seconds\")\n"
   ]
  },
  {
   "cell_type": "markdown",
   "metadata": {},
   "source": [
    "# Merge Sort"
   ]
  },
  {
   "cell_type": "code",
   "execution_count": null,
   "metadata": {},
   "outputs": [],
   "source": [
    "def merge(arr, left, right):\n",
    "    steps = 0\n",
    "    i = j = k = 0\n",
    "\n",
    "    while i < len(left) and j < len(right):\n",
    "        if left[i] < right[j]:\n",
    "            arr[k] = left[i]\n",
    "            i += 1\n",
    "        else:\n",
    "            arr[k] = right[j]\n",
    "            j += 1\n",
    "        k += 1\n",
    "        steps += 1\n",
    "\n",
    "    while i < len(left):\n",
    "        arr[k] = left[i]\n",
    "        i += 1\n",
    "        k += 1\n",
    "        steps += 1\n",
    "\n",
    "    while j < len(right):\n",
    "        arr[k] = right[j]\n",
    "        j += 1\n",
    "        k += 1\n",
    "        steps += 1\n",
    "\n",
    "    return steps\n",
    "\n",
    "def merge_sort(arr):\n",
    "    steps = 0\n",
    "    if len(arr) > 1:\n",
    "        mid = len(arr) // 2\n",
    "        left = arr[:mid]\n",
    "        right = arr[mid:]\n",
    "\n",
    "        steps += merge_sort(left)\n",
    "        steps += merge_sort(right)\n",
    "\n",
    "        steps += merge(arr, left, right)\n",
    "\n",
    "    return steps\n",
    "\n",
    "for size in input_sizes:\n",
    "    arr = random.sample(range(size), size)  # Generate a random array of given size\n",
    "    start_time = time.time()\n",
    "\n",
    "    steps = merge_sort(arr)\n",
    "\n",
    "    end_time = time.time()\n",
    "    execution_time = end_time - start_time\n",
    "\n",
    "    print(f\"Input size: {size}, Steps: {steps}, Execution time: {execution_time} seconds\")"
   ]
  },
  {
   "cell_type": "markdown",
   "metadata": {},
   "source": [
    "# Heap Sort"
   ]
  },
  {
   "cell_type": "code",
   "execution_count": 4,
   "metadata": {},
   "outputs": [
    {
     "name": "stdout",
     "output_type": "stream",
     "text": [
      "Input size: 10, Steps: 91, Execution time: 0.0 seconds\n",
      "Input size: 100, Steps: 1876, Execution time: 0.0 seconds\n",
      "Input size: 1000, Steps: 28318, Execution time: 0.01385807991027832 seconds\n",
      "Input size: 10000, Steps: 382903, Execution time: 0.1959972381591797 seconds\n"
     ]
    }
   ],
   "source": [
    "def heapify(arr, n, i):\n",
    "    steps = 0\n",
    "    largest = i\n",
    "    left = 2 * i + 1\n",
    "    right = 2 * i + 2\n",
    "\n",
    "    if left < n and arr[i] < arr[left]:\n",
    "        largest = left\n",
    "    steps += 1\n",
    "\n",
    "    if right < n and arr[largest] < arr[right]:\n",
    "        largest = right\n",
    "    steps += 1\n",
    "\n",
    "    if largest != i:\n",
    "        arr[i], arr[largest] = arr[largest], arr[i]\n",
    "        steps += 1\n",
    "        steps += heapify(arr, n, largest)\n",
    "\n",
    "    return steps\n",
    "\n",
    "def heapsort(arr):\n",
    "    steps = 0\n",
    "    n = len(arr)\n",
    "\n",
    "    # Build a maxheap. n // 2 - 1 is the index of the last parent node. \n",
    "    for i in range(n // 2 - 1, -1, -1):\n",
    "        steps += heapify(arr, n, i)\n",
    "\n",
    "    # Extract the elements one by one\n",
    "    for i in range(n - 1, 0, -1):\n",
    "        arr[i], arr[0] = arr[0], arr[i]\n",
    "        steps += 1\n",
    "        steps += heapify(arr, i, 0)\n",
    "\n",
    "    return steps\n",
    "\n",
    "for size in input_sizes:\n",
    "    arr = random.sample(range(size), size)  # Generate a random array of given size\n",
    "    start_time = time.time()\n",
    "\n",
    "    steps = heapsort(arr)\n",
    "    \n",
    "    end_time = time.time()\n",
    "    execution_time = end_time - start_time\n",
    "\n",
    "    print(f\"Input size: {size}, Steps: {steps}, Execution time: {execution_time} seconds\")"
   ]
  },
  {
   "cell_type": "markdown",
   "metadata": {},
   "source": [
    "# Quick Sort"
   ]
  },
  {
   "cell_type": "code",
   "execution_count": null,
   "metadata": {},
   "outputs": [],
   "source": [
    "def partition(arr, low, high):\n",
    "    steps = 0\n",
    "    # Tracks the last of the smaller elements\n",
    "    i = low - 1\n",
    "    pivot = arr[high]\n",
    "\n",
    "    for j in range(low, high):\n",
    "        # Check if j is smaller than the pivot\n",
    "        if arr[j] < pivot:\n",
    "            i += 1\n",
    "            arr[i], arr[j] = arr[j], arr[i]\n",
    "            steps += 1\n",
    "    arr[i + 1], arr[high] = arr[high], arr[i + 1]\n",
    "    steps += 1\n",
    "\n",
    "    return i + 1, steps\n",
    "\n",
    "def quicksort(arr, low, high):\n",
    "    steps = 0\n",
    "    if low < high:\n",
    "        pi, steps_partition = partition(arr, low, high)\n",
    "        steps += steps_partition\n",
    "        steps += quicksort(arr, low, pi - 1)\n",
    "        steps += quicksort(arr, pi + 1, high)\n",
    "    return steps\n",
    "\n",
    "for size in input_sizes:\n",
    "    arr = random.sample(range(size), size)  # Generate a random array of given size\n",
    "    start_time = time.time()\n",
    "\n",
    "    steps = quicksort(arr, 0, len(arr) - 1)\n",
    "\n",
    "    end_time = time.time()\n",
    "    execution_time = end_time - start_time\n",
    "\n",
    "    print(f\"Input size: {size}, Steps: {steps}, Execution time: {execution_time} seconds\")"
   ]
  }
 ],
 "metadata": {
  "kernelspec": {
   "display_name": "Python 3",
   "language": "python",
   "name": "python3"
  },
  "language_info": {
   "codemirror_mode": {
    "name": "ipython",
    "version": 3
   },
   "file_extension": ".py",
   "mimetype": "text/x-python",
   "name": "python",
   "nbconvert_exporter": "python",
   "pygments_lexer": "ipython3",
   "version": "3.12.1"
  }
 },
 "nbformat": 4,
 "nbformat_minor": 2
}
