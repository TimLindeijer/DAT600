{
 "cells": [
  {
   "cell_type": "code",
   "execution_count": 2,
   "metadata": {},
   "outputs": [
    {
     "name": "stdout",
     "output_type": "stream",
     "text": [
      "True\n"
     ]
    }
   ],
   "source": [
    "# Undirected Weighted Graph\n",
    "G = {\n",
    "    'A': {'B': 5, 'D': 1},\n",
    "    'B': {'A': 5, 'D': 4,'H': 8},\n",
    "    'C': {'D': 2, 'G': 6},\n",
    "    'D': {'A': 1, 'B': 4, 'C': 2, 'E': 2, 'F': 4},\n",
    "    'E': {'D': 2, 'H': 8},\n",
    "    'F': {'D': 4, 'G': 9, 'H': 7},\n",
    "    'G': {'C': 6, 'F': 9},\n",
    "    'H': {'B': 8, 'E': 8, 'F': 7}\n",
    "}\n",
    "\n",
    "# Budget\n",
    "budget = 30\n",
    "\n",
    "# Dijkstra's Algorithm\n",
    "# Pseudo code from wikipedia\n",
    "def dijkstra(G, source):\n",
    "    distance = {}\n",
    "    previous = {}\n",
    "    Q = set()\n",
    "    for v in G:\n",
    "        distance[v] = float('inf')\n",
    "        previous[v] = None\n",
    "        Q.add(v)\n",
    "    distance[source] = 0\n",
    "    while Q:\n",
    "        u = min(Q, key=lambda v: distance[v])\n",
    "        Q.remove(u)\n",
    "        for v in G[u]:\n",
    "            alt = distance[u] + G[u][v]\n",
    "            if alt < distance[v]:\n",
    "                distance[v] = alt\n",
    "                previous[v] = u\n",
    "\n",
    "    return distance, previous\n",
    "\n",
    "\n",
    "# See if you can connect all vertices within the budget\n",
    "def can_connect_all_vertices(G, budget):\n",
    "    for v in G:\n",
    "        distance, _ = dijkstra(G, v)\n",
    "        for d in distance:\n",
    "            if distance[d] > budget:\n",
    "                return False\n",
    "    return True\n",
    "\n",
    "print(can_connect_all_vertices(G, budget))"
   ]
  },
  {
   "cell_type": "code",
   "execution_count": 8,
   "metadata": {},
   "outputs": [
    {
     "name": "stdout",
     "output_type": "stream",
     "text": [
      "True\n"
     ]
    }
   ],
   "source": [
    "def dijkstra(G, source):\n",
    "    distance = {}\n",
    "    previous = {}\n",
    "    Q = set()\n",
    "    edge_count = {v: 0 for v in G}\n",
    "    for v in G:\n",
    "        distance[v] = float('inf')\n",
    "        previous[v] = None\n",
    "        Q.add(v)\n",
    "    distance[source] = 0\n",
    "    while Q:\n",
    "        u = min(Q, key=lambda v: distance[v])\n",
    "        Q.remove(u)\n",
    "        for v in G[u]:\n",
    "            alt = distance[u] + G[u][v]\n",
    "            if alt < distance[v]:\n",
    "                if u == 'D' and edge_count[u] >= 3:\n",
    "                    continue\n",
    "                if previous[v] is not None and previous[v] != u:\n",
    "                    edge_count[previous[v]] -= 1\n",
    "                distance[v] = alt\n",
    "                previous[v] = u\n",
    "                edge_count[u] += 1\n",
    "    return distance, previous\n",
    "\n",
    "def can_connect_all_vertices_with_restricted_D(G, budget):\n",
    "    distance, _ = dijkstra(G, 'A')\n",
    "    return max(distance.values()) <= budget\n",
    "\n",
    "print(can_connect_all_vertices_with_restricted_D(G, budget))"
   ]
  }
 ],
 "metadata": {
  "kernelspec": {
   "display_name": "Python 3",
   "language": "python",
   "name": "python3"
  },
  "language_info": {
   "codemirror_mode": {
    "name": "ipython",
    "version": 3
   },
   "file_extension": ".py",
   "mimetype": "text/x-python",
   "name": "python",
   "nbconvert_exporter": "python",
   "pygments_lexer": "ipython3",
   "version": "3.12.1"
  }
 },
 "nbformat": 4,
 "nbformat_minor": 2
}
