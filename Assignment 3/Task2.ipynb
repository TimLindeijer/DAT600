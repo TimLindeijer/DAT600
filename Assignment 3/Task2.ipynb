{
 "cells": [
  {
   "cell_type": "code",
   "execution_count": 5,
   "metadata": {},
   "outputs": [
    {
     "name": "stdout",
     "output_type": "stream",
     "text": [
      "26\n"
     ]
    }
   ],
   "source": [
    "# Undirected Weighted Graph\n",
    "G = {\n",
    "    'A': {'B': 5, 'D': 1},\n",
    "    'B': {'A': 5, 'D': 4,'H': 8},\n",
    "    'C': {'D': 2, 'G': 6},\n",
    "    'D': {'A': 1, 'B': 4, 'C': 2, 'E': 2, 'F': 4},\n",
    "    'E': {'D': 2, 'H': 8},\n",
    "    'F': {'D': 4, 'G': 9, 'H': 7},\n",
    "    'G': {'C': 6, 'F': 9},\n",
    "    'H': {'B': 8, 'E': 8, 'F': 7}\n",
    "}\n",
    "\n",
    "# Budget\n",
    "budget = 30\n",
    "\n",
    "def prim(G, source):\n",
    "    Q = set(G.keys())\n",
    "    key = {v: float('inf') for v in G}\n",
    "    key[source] = 0\n",
    "    parent = {v: None for v in G}\n",
    "\n",
    "    while Q:\n",
    "        u = min(Q, key=lambda v: key[v])\n",
    "        Q.remove(u)\n",
    "        for v in G[u]:\n",
    "            if v in Q and G[u][v] < key[v]:\n",
    "                key[v] = G[u][v]\n",
    "                parent[v] = u\n",
    "\n",
    "    return key\n",
    "\n",
    "key = prim(G, 'A')\n",
    "print(sum(key.values()))"
   ]
  },
  {
   "cell_type": "code",
   "execution_count": 3,
   "metadata": {},
   "outputs": [
    {
     "name": "stdout",
     "output_type": "stream",
     "text": [
      "30\n"
     ]
    }
   ],
   "source": [
    "G = {\n",
    "    'A': {'B': 5, 'D': 1},\n",
    "    'B': {'A': 5, 'D': 4,'H': 8},\n",
    "    'C': {'D': 2, 'G': 6},\n",
    "    'D': {'A': 1, 'B': 4, 'C': 2, 'E': 2, 'F': 4},\n",
    "    'E': {'D': 2, 'H': 8},\n",
    "    'F': {'D': 4, 'G': 9, 'H': 7},\n",
    "    'G': {'C': 6, 'F': 9},\n",
    "    'H': {'B': 8, 'E': 8, 'F': 7}\n",
    "}\n",
    "def prim_restricted(G, source, max_degree, restricted_vertex):\n",
    "    Q = set(G.keys())\n",
    "    key = {v: float('inf') for v in G}\n",
    "    key[source] = 0\n",
    "    parent = {v: None for v in G}\n",
    "    degree = {v: 0 for v in G}\n",
    "\n",
    "    while Q:\n",
    "        u = min(Q, key=lambda v: key[v])\n",
    "        Q.remove(u)\n",
    "        for v in G[u]:\n",
    "            if v in Q and G[u][v] < key[v]:\n",
    "                if u == restricted_vertex and degree[u] >= max_degree:\n",
    "                    continue\n",
    "                key[v] = G[u][v]\n",
    "                if parent[v] is not None and parent[v] == restricted_vertex:\n",
    "                    degree[restricted_vertex] -= 1\n",
    "                parent[v] = u\n",
    "                if u == restricted_vertex:\n",
    "                    degree[restricted_vertex] += 1\n",
    "\n",
    "    return parent, key\n",
    "\n",
    "_, key = prim_restricted(G, 'A', 3, 'D')\n",
    "print(sum(key.values()))"
   ]
  },
  {
   "cell_type": "code",
   "execution_count": 4,
   "metadata": {},
   "outputs": [
    {
     "name": "stdout",
     "output_type": "stream",
     "text": [
      "24\n"
     ]
    }
   ],
   "source": [
    "# Task 2c\n",
    "# Undirected Weighted Graph\n",
    "G = {\n",
    "    'A': {'B': 8, 'D': 1},\n",
    "    'B': {'A': 8, 'D': 4,'H': 8},\n",
    "    'C': {'D': 2, 'G': 6},\n",
    "    'D': {'A': 1, 'B': 4, 'C': 2, 'E': 2, 'F': 4},\n",
    "    'E': {'D': 2, 'H': 5},\n",
    "    'F': {'D': 4, 'G': 9, 'H': 7},\n",
    "    'G': {'C': 6, 'F': 9},\n",
    "    'H': {'B': 8, 'E': 5, 'F': 7}\n",
    "}\n",
    "\n",
    "_, key = prim(G, 'A')\n",
    "print(sum(key.values()))"
   ]
  }
 ],
 "metadata": {
  "kernelspec": {
   "display_name": "Python 3",
   "language": "python",
   "name": "python3"
  },
  "language_info": {
   "codemirror_mode": {
    "name": "ipython",
    "version": 3
   },
   "file_extension": ".py",
   "mimetype": "text/x-python",
   "name": "python",
   "nbconvert_exporter": "python",
   "pygments_lexer": "ipython3",
   "version": "3.12.1"
  }
 },
 "nbformat": 4,
 "nbformat_minor": 2
}
