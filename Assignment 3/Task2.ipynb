{
 "cells": [
  {
   "cell_type": "code",
   "execution_count": 22,
   "metadata": {},
   "outputs": [
    {
     "name": "stdout",
     "output_type": "stream",
     "text": [
      "26\n",
      "26\n",
      "26\n",
      "26\n",
      "26\n",
      "26\n",
      "26\n",
      "26\n",
      "True\n"
     ]
    }
   ],
   "source": [
    "# Undirected Weighted Graph\n",
    "G = {\n",
    "    'A': {'B': 5, 'D': 1},\n",
    "    'B': {'A': 5, 'D': 4,'H': 8},\n",
    "    'C': {'D': 2, 'G': 6},\n",
    "    'D': {'A': 1, 'B': 4, 'C': 2, 'E': 2, 'F': 4},\n",
    "    'E': {'D': 2, 'H': 8},\n",
    "    'F': {'D': 4, 'G': 9, 'H': 7},\n",
    "    'G': {'C': 6, 'F': 9},\n",
    "    'H': {'B': 8, 'E': 8, 'F': 7}\n",
    "}\n",
    "\n",
    "# Budget\n",
    "budget = 30\n",
    "\n",
    "def prim(G, source):\n",
    "    Q = set(G.keys())\n",
    "    key = {v: float('inf') for v in G}\n",
    "    key[source] = 0\n",
    "    parent = {v: None for v in G}\n",
    "\n",
    "    while Q:\n",
    "        u = min(Q, key=lambda v: key[v])\n",
    "        Q.remove(u)\n",
    "        for v in G[u]:\n",
    "            if v in Q and G[u][v] < key[v]:\n",
    "                key[v] = G[u][v]\n",
    "                parent[v] = u\n",
    "\n",
    "    return parent, key\n",
    "\n",
    "def can_connect_all_vertices(G, budget):\n",
    "    for v in G:\n",
    "        _, key = prim(G, v)\n",
    "        total_distance = sum(key.values())\n",
    "        print(total_distance)\n",
    "        if total_distance > budget:\n",
    "            return False\n",
    "    return True\n",
    "\n",
    "print(can_connect_all_vertices(G, budget))"
   ]
  },
  {
   "cell_type": "code",
   "execution_count": 25,
   "metadata": {},
   "outputs": [
    {
     "name": "stdout",
     "output_type": "stream",
     "text": [
      "30\n",
      "30\n",
      "30\n",
      "36\n",
      "False\n"
     ]
    }
   ],
   "source": [
    "# TODO: Implement a Undirected Weighted Graph which does not succeed when vertice D is used more than 3 times\n",
    "# Undirected Weighted Graph\n",
    "\n",
    "def prim_restricted(G, source, max_degree, restricted_vertex):\n",
    "    Q = set(G.keys())\n",
    "    key = {v: float('inf') for v in G}\n",
    "    key[source] = 0\n",
    "    parent = {v: None for v in G}\n",
    "    degree = {v: 0 for v in G}\n",
    "\n",
    "    while Q:\n",
    "        u = min(Q, key=lambda v: key[v])\n",
    "        Q.remove(u)\n",
    "        for v in G[u]:\n",
    "            if v in Q and G[u][v] < key[v]:\n",
    "                if u == restricted_vertex and degree[u] >= max_degree:\n",
    "                    continue\n",
    "                key[v] = G[u][v]\n",
    "                if parent[v] is not None and parent[v] == restricted_vertex:\n",
    "                    degree[restricted_vertex] -= 1\n",
    "                parent[v] = u\n",
    "                if u == restricted_vertex:\n",
    "                    degree[restricted_vertex] += 1\n",
    "\n",
    "    return parent, key\n",
    "\n",
    "def can_connect_all_vertices(G, budget, max_degree, restricted_vertex):\n",
    "    for v in G:\n",
    "        _, key = prim_restricted(G, v, max_degree, restricted_vertex)\n",
    "        total_distance = sum(key.values())\n",
    "        print(total_distance)\n",
    "        if total_distance > budget:\n",
    "            return False\n",
    "    return True\n",
    "\n",
    "print(can_connect_all_vertices(G, budget, 3, 'D'))\n"
   ]
  }
 ],
 "metadata": {
  "kernelspec": {
   "display_name": "Python 3",
   "language": "python",
   "name": "python3"
  },
  "language_info": {
   "codemirror_mode": {
    "name": "ipython",
    "version": 3
   },
   "file_extension": ".py",
   "mimetype": "text/x-python",
   "name": "python",
   "nbconvert_exporter": "python",
   "pygments_lexer": "ipython3",
   "version": "3.12.1"
  }
 },
 "nbformat": 4,
 "nbformat_minor": 2
}
