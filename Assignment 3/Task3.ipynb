{
 "cells": [
  {
   "cell_type": "code",
   "execution_count": 22,
   "metadata": {},
   "outputs": [
    {
     "name": "stdout",
     "output_type": "stream",
     "text": [
      "A {'C', 'E', 'F', 'A', 'B', 'D', 'G'}\n",
      "B {'C', 'E', 'F', 'A', 'B', 'D', 'G'}\n",
      "C {'E', 'F', 'G'}\n",
      "D {'C', 'E', 'F', 'A', 'B', 'D', 'G'}\n",
      "E {'E', 'F', 'G'}\n",
      "F {'E', 'F', 'G'}\n",
      "G {'E', 'F', 'G'}\n",
      "['A', 'B', 'D']\n"
     ]
    }
   ],
   "source": [
    "# We have a Directed graph G = (V,E). (u,v) means u defeated v. \n",
    "# Indirect defeat is also possible, so if u defeats v, and v defeats v', then u defeats v'.\n",
    "# A champion vertice is a vertice which defeats all other vertices.\n",
    "# Find all the champions in the graph.\n",
    "\n",
    "graph = {\n",
    "    'A': ['B', 'D'],\n",
    "    'B': ['A', 'C'],\n",
    "    'C': ['E', 'F'],\n",
    "    'D': ['B', 'C'],\n",
    "    'E': ['G'],\n",
    "    'F': ['E'],\n",
    "    'G': ['F']\n",
    "}\n",
    "\n",
    "# def find_champions(graph, start_vertice = 'A', visited = None):\n",
    "#     if visited is None:\n",
    "#         visited = set()\n",
    "#     champions = []\n",
    "#     defeated_dict = {}\n",
    "#     if start_vertice not in graph or start_vertice in visited:\n",
    "#         return champions\n",
    "#     visited.add(start_vertice)\n",
    "    \n",
    "#     for defeated in graph[start_vertice]:\n",
    "#         if start_vertice not in defeated_dict:\n",
    "#             defeated_dict[start_vertice] = []\n",
    "#         if defeated not in defeated_dict[start_vertice]:\n",
    "#             defeated_dict[start_vertice].append(defeated)\n",
    "#             find_champions(graph, defeated, visited)\n",
    "    \n",
    "#     # Check if start_vertice is defeated by another vertice\n",
    "#     for vertice, defeats in graph.items():\n",
    "#         if start_vertice in defeats:\n",
    "#             if start_vertice not in defeated_dict:\n",
    "#                 defeated_dict[start_vertice] = []\n",
    "#             defeated_dict[start_vertice].append(vertice)\n",
    "    \n",
    "#     for vertice, defeated in defeated_dict.items():\n",
    "#         if len(defeated) == len(graph) - 1:\n",
    "#             champions.append(vertice)\n",
    "    \n",
    "#     return champions\n",
    "\n",
    "# Want to start at a vertice, and add all the vertices it defeats to a set.\n",
    "# I then want to check if the vertices defeated by the start vertice defeat any other vertices.\n",
    "# If they do, I want to add those vertices to the set.\n",
    "# I want to continue until I am only getting repeats, and then I want to return the set.\n",
    "# I want to do this for all vertices in the graph, and get a list of all vertices which have defeated all other vertices.\n",
    "\n",
    "def find_champions(graph):\n",
    "    champions = []\n",
    "    for vertice in graph:\n",
    "        defeated = set()\n",
    "        visited = set()\n",
    "        defeated = add_defeated(graph, vertice, defeated, visited)\n",
    "        if len(defeated) >= len(graph) - 1:\n",
    "            champions.append(vertice)\n",
    "    return champions\n",
    "\n",
    "def add_defeated(graph, vertice, defeated, visited):\n",
    "    if vertice not in visited:\n",
    "        visited.add(vertice)\n",
    "        for defeated_vertice in graph[vertice]:\n",
    "            defeated.add(defeated_vertice)\n",
    "            if defeated_vertice not in visited:\n",
    "                defeated = add_defeated(graph, defeated_vertice, defeated, visited)\n",
    "    return defeated\n",
    "\n",
    "print(find_champions(graph))\n"
   ]
  }
 ],
 "metadata": {
  "kernelspec": {
   "display_name": "Python 3",
   "language": "python",
   "name": "python3"
  },
  "language_info": {
   "codemirror_mode": {
    "name": "ipython",
    "version": 3
   },
   "file_extension": ".py",
   "mimetype": "text/x-python",
   "name": "python",
   "nbconvert_exporter": "python",
   "pygments_lexer": "ipython3",
   "version": "3.12.1"
  }
 },
 "nbformat": 4,
 "nbformat_minor": 2
}
